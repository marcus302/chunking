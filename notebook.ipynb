{
 "cells": [
  {
   "cell_type": "code",
   "execution_count": null,
   "metadata": {},
   "outputs": [],
   "source": [
    "import xarray as xr\n",
    "import dask.array as da\n",
    "import numpy as np\n",
    "from blockwise_stack import blockwise_stack\n",
    "\n",
    "\n",
    "one_to_six = np.array([[1, 2, 3], [4, 5, 6]])\n",
    "\n",
    "\n",
    "ds = xr.Dataset(\n",
    "    {\n",
    "        \"data\": (\n",
    "            [\"y\", \"x\", \"band\"],\n",
    "            da.random.random((4, 6, 3), chunks=(2, 2, -1)),\n",
    "        )\n",
    "    },\n",
    "    coords={\n",
    "        \"chunk_idx\": (\n",
    "            (\"y\", \"x\"),\n",
    "            np.repeat(np.repeat(one_to_six, 2, axis=0), 2, axis=1),\n",
    "        )\n",
    "    },\n",
    ")\n",
    "ds.data"
   ]
  },
  {
   "cell_type": "code",
   "execution_count": null,
   "metadata": {},
   "outputs": [],
   "source": [
    "ds.data.data.visualize()"
   ]
  },
  {
   "cell_type": "code",
   "execution_count": null,
   "metadata": {},
   "outputs": [],
   "source": [
    "ds.chunk_idx"
   ]
  },
  {
   "cell_type": "code",
   "execution_count": null,
   "metadata": {},
   "outputs": [],
   "source": [
    "ds.data.chunks"
   ]
  },
  {
   "cell_type": "code",
   "execution_count": null,
   "metadata": {},
   "outputs": [],
   "source": [
    "stacked = ds.stack(pixel=(\"y\", \"x\"))\n",
    "stacked.data"
   ]
  },
  {
   "cell_type": "code",
   "execution_count": null,
   "metadata": {},
   "outputs": [],
   "source": [
    "stacked.data.data.visualize()"
   ]
  },
  {
   "cell_type": "code",
   "execution_count": null,
   "metadata": {},
   "outputs": [],
   "source": [
    "stacked.chunk_idx"
   ]
  },
  {
   "cell_type": "code",
   "execution_count": null,
   "metadata": {},
   "outputs": [],
   "source": [
    "stacked.data.chunks"
   ]
  },
  {
   "cell_type": "code",
   "execution_count": null,
   "metadata": {},
   "outputs": [],
   "source": [
    "t = ds.copy()\n",
    "t.coords[\"chunk_idx\"] = ((\"y\", \"x\"), da.from_array(t.chunk_idx.values, chunks=(2, 2)))\n",
    "\n",
    "stacked_blockwise = blockwise_stack(\n",
    "    t,\n",
    "    input_dims=(\"y\", \"x\"),\n",
    "    output_dim=\"pixel\",\n",
    "    ds_chunks={\"y\": 2, \"x\": 2, \"band\": -1},\n",
    ")\n",
    "stacked_blockwise.data"
   ]
  },
  {
   "cell_type": "code",
   "execution_count": null,
   "metadata": {},
   "outputs": [],
   "source": [
    "stacked_blockwise.data.data.visualize()"
   ]
  },
  {
   "cell_type": "code",
   "execution_count": null,
   "metadata": {},
   "outputs": [],
   "source": [
    "stacked_blockwise.chunk_idx.compute()"
   ]
  },
  {
   "cell_type": "code",
   "execution_count": null,
   "metadata": {},
   "outputs": [],
   "source": [
    "stacked_blockwise.data.chunks"
   ]
  }
 ],
 "metadata": {
  "kernelspec": {
   "display_name": "chunking-nMt2JJ4l-py3.11",
   "language": "python",
   "name": "python3"
  },
  "language_info": {
   "codemirror_mode": {
    "name": "ipython",
    "version": 3
   },
   "file_extension": ".py",
   "mimetype": "text/x-python",
   "name": "python",
   "nbconvert_exporter": "python",
   "pygments_lexer": "ipython3",
   "version": "3.11.0"
  },
  "orig_nbformat": 4
 },
 "nbformat": 4,
 "nbformat_minor": 2
}
